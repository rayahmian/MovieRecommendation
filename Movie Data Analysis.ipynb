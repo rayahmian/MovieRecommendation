{
 "cells": [
  {
   "cell_type": "markdown",
   "id": "8a41c6c2",
   "metadata": {},
   "source": [
    "# Movie Recommendation System Analysis\n",
    "\n",
    "**Created by:** Rayah Mian  \n",
    "**Date:** Tuesday, July 14, 2023\n",
    "\n",
    "-------------------------------------------------------------------------"
   ]
  },
  {
   "cell_type": "markdown",
   "id": "fbf90741",
   "metadata": {},
   "source": [
    "## 1. Introduction\n",
    "\n",
    "### 1.1 Defining the Scope\n",
    "\n",
    "I will leverage data from four prominent streaming platforms, namely Netflix, Amazon Prime, Disney Plus, and Hulu, to develop a movie recommendation system. This system will utilize content-based filtering techniques to generate personalized recommendations based on movie attributes. Users will have the ability to specify their preferences, whether it be a specific movie genre or their desired actor, enabling them to discover relevant titles within the system."
   ]
  },
  {
   "cell_type": "markdown",
   "id": "8dc8e6fd",
   "metadata": {},
   "source": [
    "## 2. Data Review \n",
    "\n",
    "### 2.1 Gathering Data \n",
    "\n",
    "I will aggregate data from four distinct streaming platforms, each containing a collection of movies and TV shows with their respective attributes. By merging these datasets, I aim to create a comprehensive and consolidated dataset. The purpose of this consolidation is to establish a rich foundation from which I will develop and implement the recommendation system.  \n",
    "\n",
    "### 2.2 Data Exploration"
   ]
  },
  {
   "cell_type": "code",
   "execution_count": 1,
   "id": "3a566dd7",
   "metadata": {},
   "outputs": [],
   "source": [
    "import pandas as pd\n",
    "import numpy as np \n",
    "\n",
    "pd.set_option('display.max_rows', None)\n",
    "\n",
    "# Initialize the data\n",
    "adf = pd.read_csv('amazonprime_data.csv')\n",
    "ddf = pd.read_csv('disneyplus_data.csv')\n",
    "hdf = pd.read_csv('hulu_data.csv')\n",
    "ndf = pd.read_csv('netflix_data.csv')"
   ]
  },
  {
   "cell_type": "markdown",
   "id": "7076c5c7",
   "metadata": {},
   "source": [
    "#### Amazon Prime"
   ]
  },
  {
   "cell_type": "code",
   "execution_count": 2,
   "id": "8fb5f53d",
   "metadata": {},
   "outputs": [
    {
     "name": "stdout",
     "output_type": "stream",
     "text": [
      "<class 'pandas.core.frame.DataFrame'>\n",
      "RangeIndex: 9668 entries, 0 to 9667\n",
      "Data columns (total 12 columns):\n",
      " #   Column        Non-Null Count  Dtype \n",
      "---  ------        --------------  ----- \n",
      " 0   show_id       9668 non-null   object\n",
      " 1   type          9668 non-null   object\n",
      " 2   title         9668 non-null   object\n",
      " 3   director      7586 non-null   object\n",
      " 4   cast          8435 non-null   object\n",
      " 5   country       672 non-null    object\n",
      " 6   date_added    155 non-null    object\n",
      " 7   release_year  9668 non-null   int64 \n",
      " 8   rating        9331 non-null   object\n",
      " 9   duration      9668 non-null   object\n",
      " 10  listed_in     9668 non-null   object\n",
      " 11  description   9668 non-null   object\n",
      "dtypes: int64(1), object(11)\n",
      "memory usage: 906.5+ KB\n"
     ]
    }
   ],
   "source": [
    "adf.info()"
   ]
  },
  {
   "cell_type": "code",
   "execution_count": 3,
   "id": "47460cc0",
   "metadata": {},
   "outputs": [
    {
     "name": "stdout",
     "output_type": "stream",
     "text": [
      "Movie      7814\n",
      "TV Show    1854\n",
      "Name: type, dtype: int64\n"
     ]
    }
   ],
   "source": [
    "# Extract the types of entries\n",
    "types = adf['type']\n",
    "print(types.value_counts())"
   ]
  },
  {
   "cell_type": "code",
   "execution_count": 4,
   "id": "62adc5fe",
   "metadata": {
    "scrolled": true
   },
   "outputs": [
    {
     "name": "stdout",
     "output_type": "stream",
     "text": [
      "nan                     8996\n",
      "United States            334\n",
      "India                    246\n",
      "United Kingdom            67\n",
      "Canada                    35\n",
      "France                    20\n",
      "Germany                   17\n",
      "Italy                     14\n",
      "Spain                     11\n",
      "Denmark                    6\n",
      "Japan                      6\n",
      "China                      6\n",
      "Australia                  6\n",
      "Belgium                    5\n",
      "Brazil                     5\n",
      "Switzerland                4\n",
      "Austria                    3\n",
      "Mexico                     3\n",
      "Sweden                     3\n",
      "Netherlands                3\n",
      "Ireland                    2\n",
      "Kosovo                     2\n",
      "South Africa               2\n",
      "Czech Republic             2\n",
      "Thailand                   1\n",
      "South Korea                1\n",
      "Georgia                    1\n",
      "Albania                    1\n",
      "Poland                     1\n",
      "Malaysia                   1\n",
      "Kazakhstan                 1\n",
      "Norway                     1\n",
      "Colombia                   1\n",
      "Afghanistan                1\n",
      "Egypt                      1\n",
      "Singapore                  1\n",
      "United Arab Emirates       1\n",
      "Chile                      1\n",
      "Monaco                     1\n",
      "Luxembourg                 1\n",
      "Iran                       1\n",
      "Hungary                    1\n",
      "Portugal                   1\n",
      "New Zealand                1\n",
      "Argentina                  1\n",
      "Hong Kong                  1\n",
      "dtype: int64\n"
     ]
    }
   ],
   "source": [
    "# Extract countries of movies\n",
    "adf['country'] = adf['country'].astype(str)\n",
    "adf_countries = adf['country'].str.split(',', expand=True).stack().reset_index(level=1, drop=True)\n",
    "adf_countries = adf_countries.str.strip()\n",
    "country_frequency = adf_countries.value_counts()\n",
    "print(country_frequency)"
   ]
  },
  {
   "cell_type": "code",
   "execution_count": 5,
   "id": "71a978b0",
   "metadata": {},
   "outputs": [
    {
     "name": "stdout",
     "output_type": "stream",
     "text": [
      "1920-2021\n"
     ]
    }
   ],
   "source": [
    "# Extract the range of release_year\n",
    "column_range = str(adf['release_year'].min()) + '-' + str(adf['release_year'].max())\n",
    "print(column_range)"
   ]
  },
  {
   "cell_type": "code",
   "execution_count": 6,
   "id": "371cb2bc",
   "metadata": {
    "scrolled": true
   },
   "outputs": [
    {
     "name": "stdout",
     "output_type": "stream",
     "text": [
      "Drama                        3687\n",
      "Comedy                       2099\n",
      "Action                       1657\n",
      "Suspense                     1501\n",
      "Kids                         1085\n",
      "Documentary                   993\n",
      "Special Interest              980\n",
      "Horror                        875\n",
      "Romance                       674\n",
      "Animation                     547\n",
      "and Culture                   483\n",
      "Entertainment                 483\n",
      "Arts                          483\n",
      "Science Fiction               457\n",
      "International                 355\n",
      "TV Shows                      263\n",
      "Adventure                     259\n",
      "Western                       234\n",
      "Sports                        160\n",
      "Music Videos and Concerts     155\n",
      "Unscripted                    152\n",
      "Arthouse                      141\n",
      "LGBTQ                         113\n",
      "Young Adult Audience           87\n",
      "Fitness                        83\n",
      "Anime                          80\n",
      "Fantasy                        68\n",
      "Faith and Spirituality         66\n",
      "Military and War               44\n",
      "Historical                     31\n",
      "Talk Show and Variety          14\n",
      "dtype: int64\n"
     ]
    }
   ],
   "source": [
    "# Extract the genres\n",
    "adf['listed_in'] = adf['listed_in'].astype(str)\n",
    "adf_genres = adf['listed_in'].str.split(',', expand=True).stack().reset_index(level=1, drop=True)\n",
    "adf_genres = adf_genres.str.strip()\n",
    "genres_frequency = adf_genres.value_counts()\n",
    "print(genres_frequency)"
   ]
  },
  {
   "cell_type": "markdown",
   "id": "4f9a6b6c",
   "metadata": {},
   "source": [
    "#### Disney Plus "
   ]
  },
  {
   "cell_type": "code",
   "execution_count": 7,
   "id": "889400cb",
   "metadata": {},
   "outputs": [
    {
     "name": "stdout",
     "output_type": "stream",
     "text": [
      "<class 'pandas.core.frame.DataFrame'>\n",
      "RangeIndex: 1450 entries, 0 to 1449\n",
      "Data columns (total 12 columns):\n",
      " #   Column        Non-Null Count  Dtype \n",
      "---  ------        --------------  ----- \n",
      " 0   show_id       1450 non-null   object\n",
      " 1   type          1450 non-null   object\n",
      " 2   title         1450 non-null   object\n",
      " 3   director      977 non-null    object\n",
      " 4   cast          1260 non-null   object\n",
      " 5   country       1231 non-null   object\n",
      " 6   date_added    1447 non-null   object\n",
      " 7   release_year  1450 non-null   int64 \n",
      " 8   rating        1447 non-null   object\n",
      " 9   duration      1450 non-null   object\n",
      " 10  listed_in     1450 non-null   object\n",
      " 11  description   1450 non-null   object\n",
      "dtypes: int64(1), object(11)\n",
      "memory usage: 136.1+ KB\n"
     ]
    }
   ],
   "source": [
    "ddf.info()"
   ]
  },
  {
   "cell_type": "code",
   "execution_count": 8,
   "id": "b9af8f33",
   "metadata": {},
   "outputs": [
    {
     "name": "stdout",
     "output_type": "stream",
     "text": [
      "Movie      1052\n",
      "TV Show     398\n",
      "Name: type, dtype: int64\n"
     ]
    }
   ],
   "source": [
    "# Extract the types of entries\n",
    "types = ddf['type']\n",
    "print(types.value_counts())"
   ]
  },
  {
   "cell_type": "code",
   "execution_count": 9,
   "id": "02adb988",
   "metadata": {
    "scrolled": true
   },
   "outputs": [
    {
     "name": "stdout",
     "output_type": "stream",
     "text": [
      "United States           1184\n",
      "nan                      219\n",
      "United Kingdom           101\n",
      "Canada                    77\n",
      "Australia                 23\n",
      "France                    22\n",
      "South Korea               13\n",
      "Japan                     10\n",
      "China                     10\n",
      "Germany                    9\n",
      "Ireland                    8\n",
      "Taiwan                     6\n",
      "India                      5\n",
      "Mexico                     4\n",
      "Spain                      4\n",
      "Hong Kong                  4\n",
      "Argentina                  3\n",
      "Denmark                    3\n",
      "Hungary                    3\n",
      "New Zealand                3\n",
      "South Africa               3\n",
      "Malaysia                   2\n",
      "Philippines                2\n",
      "United Arab Emirates       2\n",
      "Austria                    2\n",
      "Poland                     2\n",
      "Singapore                  2\n",
      "Belgium                    1\n",
      "Slovenia                   1\n",
      "Sweden                     1\n",
      "Norway                     1\n",
      "Pakistan                   1\n",
      "Egypt                      1\n",
      "Iran                       1\n",
      "Syria                      1\n",
      "Kazakhstan                 1\n",
      "Russia                     1\n",
      "Guatemala                  1\n",
      "Luxembourg                 1\n",
      "Namibia                    1\n",
      "Botswana                   1\n",
      "Angola                     1\n",
      "Panama                     1\n",
      "Tanzania                   1\n",
      "Thailand                   1\n",
      "Brazil                     1\n",
      "Switzerland                1\n",
      "Czech Republic             1\n",
      "dtype: int64\n"
     ]
    }
   ],
   "source": [
    "# Extract countries of movies\n",
    "ddf['country'] = ddf['country'].astype(str)\n",
    "ddf_countries = ddf['country'].str.split(',', expand=True).stack().reset_index(level=1, drop=True)\n",
    "ddf_countries = ddf_countries.str.strip()\n",
    "country_frequency = ddf_countries.value_counts()\n",
    "print(country_frequency)"
   ]
  },
  {
   "cell_type": "code",
   "execution_count": 10,
   "id": "aa75f147",
   "metadata": {},
   "outputs": [
    {
     "name": "stdout",
     "output_type": "stream",
     "text": [
      "1928-2021\n"
     ]
    }
   ],
   "source": [
    "# Extract the range of release_year\n",
    "column_range = str(ddf['release_year'].min()) + '-' + str(ddf['release_year'].max())\n",
    "print(column_range)"
   ]
  },
  {
   "cell_type": "code",
   "execution_count": 11,
   "id": "6addc556",
   "metadata": {
    "scrolled": true
   },
   "outputs": [
    {
     "name": "stdout",
     "output_type": "stream",
     "text": [
      "Family                     632\n",
      "Animation                  542\n",
      "Comedy                     526\n",
      "Action-Adventure           452\n",
      "Animals & Nature           208\n",
      "Coming of Age              205\n",
      "Fantasy                    192\n",
      "Documentary                174\n",
      "Kids                       141\n",
      "Drama                      134\n",
      "Docuseries                 122\n",
      "Science Fiction             91\n",
      "Historical                  53\n",
      "Music                       48\n",
      "Musical                     44\n",
      "Sports                      43\n",
      "Biographical                41\n",
      "Buddy                       40\n",
      "Anthology                   28\n",
      "Reality                     26\n",
      "Romance                     20\n",
      "Superhero                   19\n",
      "Crime                       16\n",
      "Variety                     12\n",
      "Mystery                     12\n",
      "Game Show / Competition     10\n",
      "Survival                     9\n",
      "Parody                       9\n",
      "Lifestyle                    8\n",
      "Western                      7\n",
      "Concert Film                 7\n",
      "Medical                      6\n",
      "Dance                        6\n",
      "Thriller                     5\n",
      "Anime                        4\n",
      "Spy/Espionage                3\n",
      "Movies                       3\n",
      "Series                       3\n",
      "Disaster                     2\n",
      "Soap Opera / Melodrama       2\n",
      "Romantic Comedy              2\n",
      "Talk Show                    1\n",
      "Police/Cop                   1\n",
      "Travel                       1\n",
      "dtype: int64\n"
     ]
    }
   ],
   "source": [
    "# Extract the genres\n",
    "ddf['listed_in'] = ddf['listed_in'].astype(str)\n",
    "ddf_genres = ddf['listed_in'].str.split(',', expand=True).stack().reset_index(level=1, drop=True)\n",
    "ddf_genres = ddf_genres.str.strip()\n",
    "genres_frequency = ddf_genres.value_counts()\n",
    "print(genres_frequency)"
   ]
  },
  {
   "cell_type": "markdown",
   "id": "4a9f29fe",
   "metadata": {},
   "source": [
    "#### Hulu"
   ]
  },
  {
   "cell_type": "code",
   "execution_count": 12,
   "id": "1c1afb94",
   "metadata": {
    "scrolled": false
   },
   "outputs": [
    {
     "name": "stdout",
     "output_type": "stream",
     "text": [
      "<class 'pandas.core.frame.DataFrame'>\n",
      "RangeIndex: 3073 entries, 0 to 3072\n",
      "Data columns (total 12 columns):\n",
      " #   Column        Non-Null Count  Dtype  \n",
      "---  ------        --------------  -----  \n",
      " 0   show_id       3073 non-null   object \n",
      " 1   type          3073 non-null   object \n",
      " 2   title         3073 non-null   object \n",
      " 3   director      3 non-null      object \n",
      " 4   cast          0 non-null      float64\n",
      " 5   country       1620 non-null   object \n",
      " 6   date_added    3045 non-null   object \n",
      " 7   release_year  3073 non-null   int64  \n",
      " 8   rating        2553 non-null   object \n",
      " 9   duration      2594 non-null   object \n",
      " 10  listed_in     3073 non-null   object \n",
      " 11  description   3069 non-null   object \n",
      "dtypes: float64(1), int64(1), object(10)\n",
      "memory usage: 288.2+ KB\n"
     ]
    }
   ],
   "source": [
    "hdf.info()"
   ]
  },
  {
   "cell_type": "code",
   "execution_count": 13,
   "id": "0c7004b0",
   "metadata": {},
   "outputs": [
    {
     "name": "stdout",
     "output_type": "stream",
     "text": [
      "TV Show    1589\n",
      "Movie      1484\n",
      "Name: type, dtype: int64\n"
     ]
    }
   ],
   "source": [
    "# Extract the types of entries\n",
    "types = hdf['type']\n",
    "print(types.value_counts())"
   ]
  },
  {
   "cell_type": "code",
   "execution_count": 14,
   "id": "9140fdf6",
   "metadata": {
    "scrolled": true
   },
   "outputs": [
    {
     "name": "stdout",
     "output_type": "stream",
     "text": [
      "nan                     1453\n",
      "United States           1097\n",
      "Japan                    281\n",
      "United Kingdom           200\n",
      "Canada                    88\n",
      "Germany                   41\n",
      "France                    40\n",
      "Australia                 36\n",
      "Sweden                    20\n",
      "Denmark                   17\n",
      "South Korea               15\n",
      "Ireland                   14\n",
      "Belgium                   13\n",
      "Italy                     12\n",
      "Spain                     11\n",
      "Mexico                     9\n",
      "Norway                     7\n",
      "China                      6\n",
      "Bulgaria                   5\n",
      "Colombia                   5\n",
      "New Zealand                5\n",
      "Russia                     4\n",
      "Netherlands                4\n",
      "Luxembourg                 3\n",
      "Hong Kong                  3\n",
      "Romania                    3\n",
      "Finland                    3\n",
      "Switzerland                3\n",
      "United Arab Emirates       3\n",
      "Czech Republic             3\n",
      "Israel                     3\n",
      "India                      2\n",
      "Poland                     2\n",
      "Chile                      2\n",
      "Austria                    2\n",
      "Argentina                  2\n",
      "Singapore                  1\n",
      "Greece                     1\n",
      "Iceland                    1\n",
      "Venezuela                  1\n",
      "Syria                      1\n",
      "Qatar                      1\n",
      "Uruguay                    1\n",
      "Brazil                     1\n",
      "Philippines                1\n",
      "Saudi Arabia               1\n",
      "French Polynesia           1\n",
      "Costa Rica                 1\n",
      "Montenegro                 1\n",
      "Serbia                     1\n",
      "Afghanistan                1\n",
      "Tunisia                    1\n",
      "Thailand                   1\n",
      "Hungary                    1\n",
      "Malta                      1\n",
      "Ukraine                    1\n",
      "South Africa               1\n",
      "Taiwan                     1\n",
      "dtype: int64\n"
     ]
    }
   ],
   "source": [
    "# Extract countries of movies\n",
    "hdf['country'] = hdf['country'].astype(str)\n",
    "hdf_countries = hdf['country'].str.split(',', expand=True).stack().reset_index(level=1, drop=True)\n",
    "hdf_countries = hdf_countries.str.strip()\n",
    "country_frequency = hdf_countries.value_counts()\n",
    "print(country_frequency)"
   ]
  },
  {
   "cell_type": "code",
   "execution_count": 15,
   "id": "283ee5ca",
   "metadata": {},
   "outputs": [
    {
     "name": "stdout",
     "output_type": "stream",
     "text": [
      "1923-2021\n"
     ]
    }
   ],
   "source": [
    "# Extract the range of release_year\n",
    "column_range = str(hdf['release_year'].min()) + '-' + str(hdf['release_year'].max())\n",
    "print(column_range)"
   ]
  },
  {
   "cell_type": "code",
   "execution_count": 16,
   "id": "f9a7634c",
   "metadata": {
    "scrolled": true
   },
   "outputs": [
    {
     "name": "stdout",
     "output_type": "stream",
     "text": [
      "Drama                   907\n",
      "Comedy                  667\n",
      "Adventure               556\n",
      "Action                  555\n",
      "Documentaries           524\n",
      "Anime                   329\n",
      "Horror                  304\n",
      "Reality                 247\n",
      "Thriller                231\n",
      "Crime                   217\n",
      "International           216\n",
      "Family                  205\n",
      "Romance                 186\n",
      "Kids                    162\n",
      "Lifestyle & Culture     155\n",
      "Sports                  139\n",
      "Science Fiction         122\n",
      "Sitcom                  118\n",
      "Black Stories           113\n",
      "News                    106\n",
      "Latino                   92\n",
      "Mystery                  81\n",
      "Cooking & Food           80\n",
      "Music                    79\n",
      "History                  70\n",
      "LGBTQ+                   67\n",
      "Science & Technology     48\n",
      "Adult Animation          37\n",
      "Classics                 35\n",
      "Teen                     34\n",
      "Cartoons                 34\n",
      "Game Shows               18\n",
      "Stand Up                 12\n",
      "Health & Wellness         8\n",
      "Late Night                4\n",
      "Sketch Comedy             3\n",
      "dtype: int64\n"
     ]
    }
   ],
   "source": [
    "# Extract the genres\n",
    "hdf['listed_in'] = hdf['listed_in'].astype(str)\n",
    "hdf_genres = hdf['listed_in'].str.split(',', expand=True).stack().reset_index(level=1, drop=True)\n",
    "hdf_genres = hdf_genres.str.strip()\n",
    "genres_frequency = hdf_genres.value_counts()\n",
    "print(genres_frequency)"
   ]
  },
  {
   "cell_type": "markdown",
   "id": "36169dd3",
   "metadata": {},
   "source": [
    "#### Netflix"
   ]
  },
  {
   "cell_type": "code",
   "execution_count": 17,
   "id": "18bb3f9f",
   "metadata": {
    "scrolled": false
   },
   "outputs": [
    {
     "name": "stdout",
     "output_type": "stream",
     "text": [
      "<class 'pandas.core.frame.DataFrame'>\n",
      "RangeIndex: 8807 entries, 0 to 8806\n",
      "Data columns (total 12 columns):\n",
      " #   Column        Non-Null Count  Dtype \n",
      "---  ------        --------------  ----- \n",
      " 0   show_id       8807 non-null   object\n",
      " 1   type          8807 non-null   object\n",
      " 2   title         8807 non-null   object\n",
      " 3   director      6173 non-null   object\n",
      " 4   cast          7982 non-null   object\n",
      " 5   country       7976 non-null   object\n",
      " 6   date_added    8797 non-null   object\n",
      " 7   release_year  8807 non-null   int64 \n",
      " 8   rating        8803 non-null   object\n",
      " 9   duration      8804 non-null   object\n",
      " 10  listed_in     8807 non-null   object\n",
      " 11  description   8807 non-null   object\n",
      "dtypes: int64(1), object(11)\n",
      "memory usage: 825.8+ KB\n"
     ]
    }
   ],
   "source": [
    "ndf.info()"
   ]
  },
  {
   "cell_type": "code",
   "execution_count": 18,
   "id": "b0dc3e59",
   "metadata": {},
   "outputs": [
    {
     "name": "stdout",
     "output_type": "stream",
     "text": [
      "Movie      6131\n",
      "TV Show    2676\n",
      "Name: type, dtype: int64\n"
     ]
    }
   ],
   "source": [
    "# Extract the types of entries\n",
    "types = ndf['type']\n",
    "print(types.value_counts())"
   ]
  },
  {
   "cell_type": "code",
   "execution_count": 19,
   "id": "1ecbe648",
   "metadata": {
    "scrolled": true
   },
   "outputs": [
    {
     "name": "stdout",
     "output_type": "stream",
     "text": [
      "United States           3690\n",
      "India                   1046\n",
      "nan                      831\n",
      "United Kingdom           806\n",
      "Canada                   445\n",
      "France                   393\n",
      "Japan                    318\n",
      "Spain                    232\n",
      "South Korea              231\n",
      "Germany                  226\n",
      "Mexico                   169\n",
      "China                    162\n",
      "Australia                160\n",
      "Egypt                    117\n",
      "Turkey                   113\n",
      "Hong Kong                105\n",
      "Nigeria                  103\n",
      "Italy                    100\n",
      "Brazil                    97\n",
      "Argentina                 91\n",
      "Belgium                   90\n",
      "Indonesia                 90\n",
      "Taiwan                    89\n",
      "Philippines               83\n",
      "Thailand                  70\n",
      "South Africa              62\n",
      "Colombia                  52\n",
      "Netherlands               50\n",
      "Denmark                   48\n",
      "Ireland                   46\n",
      "Sweden                    42\n",
      "Poland                    41\n",
      "Singapore                 41\n",
      "United Arab Emirates      37\n",
      "New Zealand               33\n",
      "Lebanon                   31\n",
      "Norway                    30\n",
      "Israel                    30\n",
      "Chile                     29\n",
      "Russia                    27\n",
      "Malaysia                  26\n",
      "Pakistan                  24\n",
      "Czech Republic            22\n",
      "Switzerland               19\n",
      "Uruguay                   14\n",
      "Romania                   14\n",
      "Saudi Arabia              13\n",
      "Luxembourg                12\n",
      "Austria                   12\n",
      "Finland                   11\n",
      "Iceland                   11\n",
      "Hungary                   11\n",
      "Greece                    11\n",
      "Peru                      10\n",
      "Bulgaria                  10\n",
      "Qatar                     10\n",
      "Jordan                     9\n",
      "Kuwait                     8\n",
      "Vietnam                    7\n",
      "Serbia                     7\n",
      "                           7\n",
      "Cambodia                   6\n",
      "Kenya                      6\n",
      "Portugal                   6\n",
      "Morocco                    6\n",
      "West Germany               5\n",
      "Ghana                      5\n",
      "Bangladesh                 4\n",
      "Venezuela                  4\n",
      "Iran                       4\n",
      "Croatia                    4\n",
      "Zimbabwe                   3\n",
      "Soviet Union               3\n",
      "Senegal                    3\n",
      "Ukraine                    3\n",
      "Malta                      3\n",
      "Algeria                    3\n",
      "Syria                      3\n",
      "Slovenia                   3\n",
      "Georgia                    2\n",
      "Guatemala                  2\n",
      "Iraq                       2\n",
      "Nepal                      2\n",
      "Namibia                    2\n",
      "Cayman Islands             2\n",
      "Mauritius                  2\n",
      "Puerto Rico                1\n",
      "Jamaica                    1\n",
      "Nicaragua                  1\n",
      "Dominican Republic         1\n",
      "Samoa                      1\n",
      "Azerbaijan                 1\n",
      "Botswana                   1\n",
      "Vatican City               1\n",
      "Kazakhstan                 1\n",
      "Liechtenstein              1\n",
      "Lithuania                  1\n",
      "Afghanistan                1\n",
      "Somalia                    1\n",
      "Sudan                      1\n",
      "Panama                     1\n",
      "Uganda                     1\n",
      "East Germany               1\n",
      "Cuba                       1\n",
      "Sri Lanka                  1\n",
      "Latvia                     1\n",
      "Ethiopia                   1\n",
      "Cyprus                     1\n",
      "Mozambique                 1\n",
      "Angola                     1\n",
      "Malawi                     1\n",
      "Paraguay                   1\n",
      "Burkina Faso               1\n",
      "Albania                    1\n",
      "Palestine                  1\n",
      "Belarus                    1\n",
      "Cameroon                   1\n",
      "Slovakia                   1\n",
      "Bermuda                    1\n",
      "Ecuador                    1\n",
      "Armenia                    1\n",
      "Mongolia                   1\n",
      "Bahamas                    1\n",
      "Montenegro                 1\n",
      "dtype: int64\n"
     ]
    }
   ],
   "source": [
    "# Extract countries of movies\n",
    "ndf['country'] = ndf['country'].astype(str)\n",
    "ndf_countries = ndf['country'].str.split(',', expand=True).stack().reset_index(level=1, drop=True)\n",
    "ndf_countries = ndf_countries.str.strip()\n",
    "country_frequency = ndf_countries.value_counts()\n",
    "print(country_frequency)"
   ]
  },
  {
   "cell_type": "code",
   "execution_count": 20,
   "id": "b265393a",
   "metadata": {},
   "outputs": [
    {
     "name": "stdout",
     "output_type": "stream",
     "text": [
      "1925-2021\n"
     ]
    }
   ],
   "source": [
    "# Extract the range of release_year\n",
    "column_range = str(ndf['release_year'].min()) + '-' + str(ndf['release_year'].max())\n",
    "print(column_range)"
   ]
  },
  {
   "cell_type": "code",
   "execution_count": 21,
   "id": "bea4526f",
   "metadata": {
    "scrolled": true
   },
   "outputs": [
    {
     "name": "stdout",
     "output_type": "stream",
     "text": [
      "International Movies            2752\n",
      "Dramas                          2427\n",
      "Comedies                        1674\n",
      "International TV Shows          1351\n",
      "Documentaries                    869\n",
      "Action & Adventure               859\n",
      "TV Dramas                        763\n",
      "Independent Movies               756\n",
      "Children & Family Movies         641\n",
      "Romantic Movies                  616\n",
      "TV Comedies                      581\n",
      "Thrillers                        577\n",
      "Crime TV Shows                   470\n",
      "Kids' TV                         451\n",
      "Docuseries                       395\n",
      "Music & Musicals                 375\n",
      "Romantic TV Shows                370\n",
      "Horror Movies                    357\n",
      "Stand-Up Comedy                  343\n",
      "Reality TV                       255\n",
      "British TV Shows                 253\n",
      "Sci-Fi & Fantasy                 243\n",
      "Sports Movies                    219\n",
      "Anime Series                     176\n",
      "Spanish-Language TV Shows        174\n",
      "TV Action & Adventure            168\n",
      "Korean TV Shows                  151\n",
      "Classic Movies                   116\n",
      "LGBTQ Movies                     102\n",
      "TV Mysteries                      98\n",
      "Science & Nature TV               92\n",
      "TV Sci-Fi & Fantasy               84\n",
      "TV Horror                         75\n",
      "Anime Features                    71\n",
      "Cult Movies                       71\n",
      "Teen TV Shows                     69\n",
      "Faith & Spirituality              65\n",
      "TV Thrillers                      57\n",
      "Movies                            57\n",
      "Stand-Up Comedy & Talk Shows      56\n",
      "Classic & Cult TV                 28\n",
      "TV Shows                          16\n",
      "dtype: int64\n"
     ]
    }
   ],
   "source": [
    "# Extract the genres\n",
    "ndf['listed_in'] = ndf['listed_in'].astype(str)\n",
    "ndf_genres = ndf['listed_in'].str.split(',', expand=True).stack().reset_index(level=1, drop=True)\n",
    "ndf_genres = ndf_genres.str.strip()\n",
    "genres_frequency = ndf_genres.value_counts()\n",
    "print(genres_frequency)"
   ]
  },
  {
   "cell_type": "markdown",
   "id": "057de90a",
   "metadata": {},
   "source": [
    "### 2.3 Data Analysis\n",
    "\n",
    "#### Consolidated Data Set\n",
    "\n",
    "We will merge all 4 data sets to create one consolidated dataset. We will also add a column called \"platform\" to distinguish the streaming platforms from each other. "
   ]
  },
  {
   "cell_type": "code",
   "execution_count": 28,
   "id": "81fde067",
   "metadata": {},
   "outputs": [],
   "source": [
    "# CLEAN DATA\n",
    "\n",
    "# Add the \"platform\" column to each DataFrame\n",
    "adf['platform'] = 'Amazon Prime'\n",
    "ddf['platform'] = 'Disney Plus'\n",
    "hdf['platform'] = 'Hulu'\n",
    "ndf['platform'] = 'Netflix'\n",
    "\n",
    "# Modify the show IDs \n",
    "adf['show_id'] = 'AP' + adf['show_id'].str[1:]\n",
    "ddf['show_id'] = 'DP' + ddf['show_id'].str[1:]\n",
    "hdf['show_id'] = 'H' + hdf['show_id'].str[1:]\n",
    "ndf['show_id'] = 'N' + ndf['show_id'].str[1:]"
   ]
  },
  {
   "cell_type": "code",
   "execution_count": 29,
   "id": "e3de4ca6",
   "metadata": {
    "scrolled": true
   },
   "outputs": [
    {
     "name": "stdout",
     "output_type": "stream",
     "text": [
      "<class 'pandas.core.frame.DataFrame'>\n",
      "RangeIndex: 22998 entries, 0 to 22997\n",
      "Data columns (total 13 columns):\n",
      " #   Column        Non-Null Count  Dtype \n",
      "---  ------        --------------  ----- \n",
      " 0   show_id       22998 non-null  object\n",
      " 1   platform      22998 non-null  object\n",
      " 2   type          22998 non-null  object\n",
      " 3   title         22998 non-null  object\n",
      " 4   director      14739 non-null  object\n",
      " 5   cast          17677 non-null  object\n",
      " 6   country       22998 non-null  object\n",
      " 7   date_added    13444 non-null  object\n",
      " 8   release_year  22998 non-null  int64 \n",
      " 9   rating        22134 non-null  object\n",
      " 10  duration      22516 non-null  object\n",
      " 11  listed_in     22998 non-null  object\n",
      " 12  description   22994 non-null  object\n",
      "dtypes: int64(1), object(12)\n",
      "memory usage: 2.3+ MB\n"
     ]
    }
   ],
   "source": [
    "# Merge the datasets\n",
    "df1 = pd.concat([adf, ddf, hdf, ndf], ignore_index=True)\n",
    "df1 = df1[['show_id', 'platform', 'type', 'title', 'director', 'cast', 'country', 'date_added', 'release_year', 'rating', \n",
    "        'duration', 'listed_in', 'description']]\n",
    "df1.info()"
   ]
  },
  {
   "cell_type": "code",
   "execution_count": 30,
   "id": "bd1a1e55",
   "metadata": {
    "scrolled": true
   },
   "outputs": [
    {
     "name": "stdout",
     "output_type": "stream",
     "text": [
      "Canada, India, United States, United Kingdom, France, Spain, nan, Italy, Germany, Japan, China, Denmark, Czech Republic, Netherlands, Ireland, Thailand, Brazil, Switzerland, Australia, Belgium, Chile, Argentina, Mexico, Sweden, New Zealand, Portugal, Hungary, Iran, Luxembourg, South Africa, Austria, Monaco, Egypt, United Arab Emirates, Singapore, South Korea, Afghanistan, Colombia, Norway, Kosovo, Kazakhstan, Malaysia, Poland, Albania, Georgia, Hong Kong, Taiwan, Philippines, Tanzania, Panama, Angola, Botswana, Namibia, Guatemala, Russia, Syria, Pakistan, Slovenia, Israel, Ukraine, Malta, Bulgaria, Tunisia, Romania, Serbia, Montenegro, Costa Rica, French Polynesia, Saudi Arabia, Uruguay, Qatar, Venezuela, Finland, Greece, Iceland, Ghana, Burkina Faso, Ethiopia, Turkey, Nigeria, Nepal, Jordan, Algeria, Indonesia, Kuwait, Vietnam, Lebanon, Mauritius, Cameroon, Palestine, Kenya, Cambodia, Bangladesh, Cayman Islands, Senegal, Peru, Mozambique, Belarus, Zimbabwe, Puerto Rico, Cyprus, Iraq, Malawi, Paraguay, Croatia, West Germany, Soviet Union, Morocco, Slovakia, Bermuda, Ecuador, Armenia, Mongolia, Bahamas, Sri Lanka, Latvia, Liechtenstein, Cuba, Nicaragua, Dominican Republic, Samoa, Azerbaijan, Vatican City, Jamaica, Lithuania, Somalia, Sudan, Uganda, East Germany\n"
     ]
    }
   ],
   "source": [
    "# Extract countries of movies\n",
    "df1['country'] = df1['country'].astype(str)\n",
    "df_countries = df1['country'].str.split(',', expand=True).stack().reset_index(level=1, drop=True)\n",
    "df_countries = df_countries.str.strip()\n",
    "df_countries = df_countries[df_countries != '']\n",
    "\n",
    "# Get unique countries\n",
    "unique_countries = df_countries.unique()\n",
    "countries_string = ', '.join(unique_countries)\n",
    "print(countries_string)"
   ]
  },
  {
   "cell_type": "code",
   "execution_count": 31,
   "id": "3315d581",
   "metadata": {
    "scrolled": false
   },
   "outputs": [
    {
     "name": "stdout",
     "output_type": "stream",
     "text": [
      "Comedy, Drama, International, Action, Suspense, Documentary, Fantasy, Kids, Special Interest, Science Fiction, Adventure, Horror, Sports, Talk Show and Variety, Anime, Arts, Entertainment, and Culture, TV Shows, Animation, Music Videos and Concerts, Fitness, Faith and Spirituality, Military and War, Western, LGBTQ, Romance, Unscripted, Young Adult Audience, Arthouse, Historical, Family, Musical, Docuseries, Music, Biographical, Action-Adventure, Superhero, Reality, Survival, Animals & Nature, Coming of Age, Lifestyle, Movies, Concert Film, Crime, Anthology, Medical, Variety, Spy/Espionage, Buddy, Parody, Game Show / Competition, Romantic Comedy, Thriller, Police/Cop, Talk Show, Dance, Series, Mystery, Soap Opera / Melodrama, Disaster, Travel, Stand Up, Cooking & Food, Documentaries, Lifestyle & Culture, News, History, Teen, Health & Wellness, Black Stories, Latino, Late Night, Sketch Comedy, Classics, LGBTQ+, Adult Animation, Sitcom, Game Shows, Cartoons, Science & Technology, International TV Shows, TV Dramas, TV Mysteries, Crime TV Shows, TV Action & Adventure, Reality TV, Romantic TV Shows, TV Comedies, TV Horror, Children & Family Movies, Dramas, Independent Movies, International Movies, British TV Shows, Comedies, Spanish-Language TV Shows, Thrillers, Romantic Movies, Music & Musicals, Horror Movies, Sci-Fi & Fantasy, TV Thrillers, Kids' TV, Action & Adventure, TV Sci-Fi & Fantasy, Classic Movies, Anime Features, Sports Movies, Anime Series, Korean TV Shows, Science & Nature TV, Teen TV Shows, Cult Movies, Faith & Spirituality, LGBTQ Movies, Stand-Up Comedy, Stand-Up Comedy & Talk Shows, Classic & Cult TV\n"
     ]
    }
   ],
   "source": [
    "# Extract the genres\n",
    "df1['listed_in'] = df1['listed_in'].astype(str)\n",
    "df_genres = df1['listed_in'].str.split(',', expand=True).stack().reset_index(level=1, drop=True)\n",
    "df_genres = df_genres.str.strip()\n",
    "\n",
    "# Get unique genres\n",
    "unique_genres = df_genres.unique()\n",
    "genres_string = ', '.join(unique_genres)\n",
    "print(genres_string)"
   ]
  },
  {
   "cell_type": "code",
   "execution_count": 32,
   "id": "da8bb84e",
   "metadata": {},
   "outputs": [
    {
     "data": {
      "text/plain": [
       "show_id            0\n",
       "platform           0\n",
       "type               0\n",
       "title              0\n",
       "director        8259\n",
       "cast            5321\n",
       "country            0\n",
       "date_added      9554\n",
       "release_year       0\n",
       "rating           864\n",
       "duration         482\n",
       "listed_in          0\n",
       "description        4\n",
       "dtype: int64"
      ]
     },
     "execution_count": 32,
     "metadata": {},
     "output_type": "execute_result"
    }
   ],
   "source": [
    "df1.isnull().sum()"
   ]
  },
  {
   "cell_type": "code",
   "execution_count": 34,
   "id": "77a1e335",
   "metadata": {},
   "outputs": [
    {
     "name": "stdout",
     "output_type": "stream",
     "text": [
      "Number of duplicates before consolidation: 398\n",
      "<class 'pandas.core.frame.DataFrame'>\n",
      "RangeIndex: 22600 entries, 0 to 22599\n",
      "Data columns (total 12 columns):\n",
      " #   Column        Non-Null Count  Dtype \n",
      "---  ------        --------------  ----- \n",
      " 0   title         22600 non-null  object\n",
      " 1   release_year  22600 non-null  int64 \n",
      " 2   show_id       22600 non-null  object\n",
      " 3   platform      22600 non-null  object\n",
      " 4   type          22600 non-null  object\n",
      " 5   director      14556 non-null  object\n",
      " 6   cast          17471 non-null  object\n",
      " 7   date_added    13303 non-null  object\n",
      " 8   rating        21766 non-null  object\n",
      " 9   duration      22149 non-null  object\n",
      " 10  listed_in     22600 non-null  object\n",
      " 11  description   22596 non-null  object\n",
      "dtypes: int64(1), object(11)\n",
      "memory usage: 2.1+ MB\n",
      "Number of duplicates after consolidation: 0\n"
     ]
    }
   ],
   "source": [
    "# Merge duplicates\n",
    "# Count the number of duplicates before the consolidation\n",
    "columns_to_check = ['title', 'release_year']\n",
    "num_duplicates = df1.duplicated(subset=columns_to_check).sum()\n",
    "print(\"Number of duplicates before consolidation:\", num_duplicates)\n",
    "\n",
    "# Sort and find duplicates\n",
    "df_sorted = df1.sort_values(by=['title', 'release_year'])\n",
    "grouped = df_sorted.groupby(['title', 'release_year'])\n",
    "\n",
    "consolidation_rules = {\n",
    "    'show_id': 'last',\n",
    "    'platform': lambda x: ', '.join(x),\n",
    "    'type': 'last',\n",
    "    'director': 'last',\n",
    "    'cast': 'last',\n",
    "    'date_added': 'last',\n",
    "    'rating': 'last',\n",
    "    'duration': 'last',\n",
    "    'listed_in': lambda x: ', '.join(x),\n",
    "    'description': 'last'}\n",
    "\n",
    "df = grouped.agg(consolidation_rules).reset_index()\n",
    "df.info()\n",
    "\n",
    "# Count the number of duplicates after the consolidation\n",
    "columns_to_check = ['title', 'release_year']\n",
    "num_duplicates = df.duplicated(subset=columns_to_check).sum()\n",
    "print(\"Number of duplicates after consolidation:\", num_duplicates)"
   ]
  },
  {
   "cell_type": "code",
   "execution_count": null,
   "id": "65c831eb",
   "metadata": {},
   "outputs": [],
   "source": []
  }
 ],
 "metadata": {
  "kernelspec": {
   "display_name": "Python 3 (ipykernel)",
   "language": "python",
   "name": "python3"
  },
  "language_info": {
   "codemirror_mode": {
    "name": "ipython",
    "version": 3
   },
   "file_extension": ".py",
   "mimetype": "text/x-python",
   "name": "python",
   "nbconvert_exporter": "python",
   "pygments_lexer": "ipython3",
   "version": "3.10.9"
  }
 },
 "nbformat": 4,
 "nbformat_minor": 5
}
